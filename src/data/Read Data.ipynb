{
  "nbformat": 4,
  "nbformat_minor": 0,
  "metadata": {
    "colab": {
      "name": "Untitled12.ipynb",
      "provenance": []
    },
    "kernelspec": {
      "name": "python3",
      "display_name": "Python 3"
    },
    "language_info": {
      "name": "python"
    }
  },
  "cells": [
    {
      "cell_type": "code",
      "execution_count": null,
      "metadata": {
        "id": "IvLrZjOp9HDc"
      },
      "outputs": [],
      "source": [
        "import numpy as np \n",
        "import scipy as sp \n",
        "import pandas as pd \n",
        "import matplotlib as mpl \n",
        "from matplotlib import pyplot as plt\n",
        "import seaborn as sns\n",
        "from sklearn.model_selection import train_test_split\n",
        "from sklearn.neighbors import KNeighborsRegressor\n",
        "from sklearn.model_selection import cross_val_score\n",
        "from sklearn.model_selection import KFold\n",
        "from statistics import mean \n",
        "from sklearn import preprocessing\n",
        "from sklearn.preprocessing import StandardScaler\n",
        "from sklearn.model_selection import GridSearchCV"
      ]
    },
    {
      "cell_type": "markdown",
      "source": [
        "Reading in Data"
      ],
      "metadata": {
        "id": "c_EohShm9Ijy"
      }
    },
    {
      "cell_type": "code",
      "source": [
        "#reading in csv data\n",
        "df1 = pd.read_csv(\"https://archive.ics.uci.edu/ml/machine-learning-databases/wine-quality/winequality-red.csv\", sep=';')\n",
        "winetype = 1\n",
        "df1['winetype'] = winetype\n",
        "df1.head()"
      ],
      "metadata": {
        "id": "ZrjCv1i79K9N"
      },
      "execution_count": null,
      "outputs": []
    },
    {
      "cell_type": "code",
      "source": [
        "#reading in csv data\n",
        "df2 = pd.read_csv(\"https://archive.ics.uci.edu/ml/machine-learning-databases/wine-quality/winequality-white.csv\", sep=';')\n",
        "winetype = 0\n",
        "df2['winetype'] = winetype\n",
        "df2.head()"
      ],
      "metadata": {
        "id": "4Y7zmB459LvC"
      },
      "execution_count": null,
      "outputs": []
    },
    {
      "cell_type": "code",
      "source": [
        "#reading in csv data\n",
        "df3 = pd.concat([df1, df2])\n",
        "df3.head()"
      ],
      "metadata": {
        "id": "NYyVklm29NDA"
      },
      "execution_count": null,
      "outputs": []
    }
  ]
}