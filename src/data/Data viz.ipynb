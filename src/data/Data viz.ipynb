{
  "nbformat": 4,
  "nbformat_minor": 0,
  "metadata": {
    "colab": {
      "name": "Untitled12.ipynb",
      "provenance": []
    },
    "kernelspec": {
      "name": "python3",
      "display_name": "Python 3"
    },
    "language_info": {
      "name": "python"
    }
  },
  "cells": [
    {
      "cell_type": "code",
      "execution_count": null,
      "metadata": {
        "id": "IvLrZjOp9HDc"
      },
      "outputs": [],
      "source": [
        "import numpy as np \n",
        "import scipy as sp \n",
        "import pandas as pd \n",
        "import matplotlib as mpl \n",
        "from matplotlib import pyplot as plt\n",
        "import seaborn as sns\n",
        "from sklearn.model_selection import train_test_split\n",
        "from sklearn.neighbors import KNeighborsRegressor\n",
        "from sklearn.model_selection import cross_val_score\n",
        "from sklearn.model_selection import KFold\n",
        "from statistics import mean \n",
        "from sklearn import preprocessing\n",
        "from sklearn.preprocessing import StandardScaler\n",
        "from sklearn.model_selection import GridSearchCV"
      ]
    },
    {
      "cell_type": "markdown",
      "source": [
        "Data Viz\n"
      ],
      "metadata": {
        "id": "c_EohShm9Ijy"
      }
    },
    {
      "cell_type": "code",
      "source": [
        "#Visualize the univariate distribution of the target feature\n",
        "df3['winetype'].hist()\n",
        "plt.xlabel(\"Winetype\")\n",
        "plt.ylabel(\"Count\")"
      ],
      "metadata": {
        "id": "HvSYz3JW-OyR"
      },
      "execution_count": null,
      "outputs": []
    },
    {
      "cell_type": "code",
      "source": [
        "#Visualize three continuous explanatory variables\n",
        "df3['fixed acidity'].hist()\n",
        "plt.xlabel(\"Fixed acidity\")\n",
        "plt.ylabel(\"Count\")"
      ],
      "metadata": {
        "id": "mysdsM0g-QRL"
      },
      "execution_count": null,
      "outputs": []
    },
    {
      "cell_type": "code",
      "source": [
        "#Visualize three continuous explanatory variables\n",
        "df3['volatile acidity'].hist()\n",
        "plt.xlabel(\"Volatile acidity\")\n",
        "plt.ylabel(\"Count\")"
      ],
      "metadata": {
        "id": "z3yUFkdS-RjW"
      },
      "execution_count": null,
      "outputs": []
    },
    {
      "cell_type": "code",
      "source": [
        "#Visualize three continuous explanatory variables\n",
        "df3['pH'].hist()\n",
        "plt.xlabel(\"pH\")\n",
        "plt.ylabel(\"Count\")"
      ],
      "metadata": {
        "id": "AyTZpIgE-SWL"
      },
      "execution_count": null,
      "outputs": []
    }
  ]
}