{
  "nbformat": 4,
  "nbformat_minor": 0,
  "metadata": {
    "colab": {
      "name": "HW_2_Di_Wu.ipynb",
      "provenance": [],
      "collapsed_sections": []
    },
    "kernelspec": {
      "name": "python3",
      "display_name": "Python 3"
    },
    "language_info": {
      "name": "python"
    }
  },
  "cells": [
    {
      "cell_type": "markdown",
      "metadata": {
        "id": "EVoUf27tap-E"
      },
      "source": [
        "#HW 2: Supervised Learning Models--Di Wu"
      ]
    },
    {
      "cell_type": "code",
      "metadata": {
        "id": "QAy3hmBaTZlj"
      },
      "source": [
        "import numpy as np \n",
        "import scipy as sp \n",
        "import pandas as pd \n",
        "import matplotlib as mpl \n",
        "from matplotlib import pyplot as plt\n",
        "import seaborn as sns\n",
        "from sklearn.model_selection import train_test_split\n",
        "from sklearn.neighbors import KNeighborsRegressor\n",
        "from sklearn.model_selection import cross_val_score\n",
        "from sklearn.model_selection import KFold\n",
        "from statistics import mean \n",
        "from sklearn import preprocessing\n",
        "from sklearn.preprocessing import StandardScaler\n",
        "from sklearn.model_selection import GridSearchCV"
      ],
      "execution_count": null,
      "outputs": []
    },
    {
      "cell_type": "markdown",
      "metadata": {
        "id": "goMo-zdLU-Ui"
      },
      "source": [
        "##Classification on red and white wine characteristics"
      ]
    },
    {
      "cell_type": "markdown",
      "metadata": {
        "id": "wQ5W2ZV6VEyC"
      },
      "source": [
        "###1. Visualize the univariate distribution of the target feature and each of the three explanatory variables that you think are likely to have a relationship with the target feature.   "
      ]
    },
    {
      "cell_type": "code",
      "metadata": {
        "colab": {
          "base_uri": "https://localhost:8080/",
          "height": 224
        },
        "id": "Z8YuLvJfVIEz",
        "outputId": "94305239-8ef4-4d60-8450-a3d32f8c3f83"
      },
      "source": [
        "#reading in csv data\n",
        "df1 = pd.read_csv(\"https://archive.ics.uci.edu/ml/machine-learning-databases/wine-quality/winequality-red.csv\", sep=';')\n",
        "winetype = 1\n",
        "df1['winetype'] = winetype\n",
        "df1.head()"
      ],
      "execution_count": null,
      "outputs": [
        {
          "output_type": "execute_result",
          "data": {
            "text/html": [
              "<div>\n",
              "<style scoped>\n",
              "    .dataframe tbody tr th:only-of-type {\n",
              "        vertical-align: middle;\n",
              "    }\n",
              "\n",
              "    .dataframe tbody tr th {\n",
              "        vertical-align: top;\n",
              "    }\n",
              "\n",
              "    .dataframe thead th {\n",
              "        text-align: right;\n",
              "    }\n",
              "</style>\n",
              "<table border=\"1\" class=\"dataframe\">\n",
              "  <thead>\n",
              "    <tr style=\"text-align: right;\">\n",
              "      <th></th>\n",
              "      <th>fixed acidity</th>\n",
              "      <th>volatile acidity</th>\n",
              "      <th>citric acid</th>\n",
              "      <th>residual sugar</th>\n",
              "      <th>chlorides</th>\n",
              "      <th>free sulfur dioxide</th>\n",
              "      <th>total sulfur dioxide</th>\n",
              "      <th>density</th>\n",
              "      <th>pH</th>\n",
              "      <th>sulphates</th>\n",
              "      <th>alcohol</th>\n",
              "      <th>quality</th>\n",
              "      <th>winetype</th>\n",
              "    </tr>\n",
              "  </thead>\n",
              "  <tbody>\n",
              "    <tr>\n",
              "      <th>0</th>\n",
              "      <td>7.4</td>\n",
              "      <td>0.70</td>\n",
              "      <td>0.00</td>\n",
              "      <td>1.9</td>\n",
              "      <td>0.076</td>\n",
              "      <td>11.0</td>\n",
              "      <td>34.0</td>\n",
              "      <td>0.9978</td>\n",
              "      <td>3.51</td>\n",
              "      <td>0.56</td>\n",
              "      <td>9.4</td>\n",
              "      <td>5</td>\n",
              "      <td>1</td>\n",
              "    </tr>\n",
              "    <tr>\n",
              "      <th>1</th>\n",
              "      <td>7.8</td>\n",
              "      <td>0.88</td>\n",
              "      <td>0.00</td>\n",
              "      <td>2.6</td>\n",
              "      <td>0.098</td>\n",
              "      <td>25.0</td>\n",
              "      <td>67.0</td>\n",
              "      <td>0.9968</td>\n",
              "      <td>3.20</td>\n",
              "      <td>0.68</td>\n",
              "      <td>9.8</td>\n",
              "      <td>5</td>\n",
              "      <td>1</td>\n",
              "    </tr>\n",
              "    <tr>\n",
              "      <th>2</th>\n",
              "      <td>7.8</td>\n",
              "      <td>0.76</td>\n",
              "      <td>0.04</td>\n",
              "      <td>2.3</td>\n",
              "      <td>0.092</td>\n",
              "      <td>15.0</td>\n",
              "      <td>54.0</td>\n",
              "      <td>0.9970</td>\n",
              "      <td>3.26</td>\n",
              "      <td>0.65</td>\n",
              "      <td>9.8</td>\n",
              "      <td>5</td>\n",
              "      <td>1</td>\n",
              "    </tr>\n",
              "    <tr>\n",
              "      <th>3</th>\n",
              "      <td>11.2</td>\n",
              "      <td>0.28</td>\n",
              "      <td>0.56</td>\n",
              "      <td>1.9</td>\n",
              "      <td>0.075</td>\n",
              "      <td>17.0</td>\n",
              "      <td>60.0</td>\n",
              "      <td>0.9980</td>\n",
              "      <td>3.16</td>\n",
              "      <td>0.58</td>\n",
              "      <td>9.8</td>\n",
              "      <td>6</td>\n",
              "      <td>1</td>\n",
              "    </tr>\n",
              "    <tr>\n",
              "      <th>4</th>\n",
              "      <td>7.4</td>\n",
              "      <td>0.70</td>\n",
              "      <td>0.00</td>\n",
              "      <td>1.9</td>\n",
              "      <td>0.076</td>\n",
              "      <td>11.0</td>\n",
              "      <td>34.0</td>\n",
              "      <td>0.9978</td>\n",
              "      <td>3.51</td>\n",
              "      <td>0.56</td>\n",
              "      <td>9.4</td>\n",
              "      <td>5</td>\n",
              "      <td>1</td>\n",
              "    </tr>\n",
              "  </tbody>\n",
              "</table>\n",
              "</div>"
            ],
            "text/plain": [
              "   fixed acidity  volatile acidity  citric acid  ...  alcohol  quality  winetype\n",
              "0            7.4              0.70         0.00  ...      9.4        5         1\n",
              "1            7.8              0.88         0.00  ...      9.8        5         1\n",
              "2            7.8              0.76         0.04  ...      9.8        5         1\n",
              "3           11.2              0.28         0.56  ...      9.8        6         1\n",
              "4            7.4              0.70         0.00  ...      9.4        5         1\n",
              "\n",
              "[5 rows x 13 columns]"
            ]
          },
          "metadata": {},
          "execution_count": 176
        }
      ]
    },
    {
      "cell_type": "code",
      "metadata": {
        "colab": {
          "base_uri": "https://localhost:8080/",
          "height": 224
        },
        "id": "Y96WvVno5g4-",
        "outputId": "68cb2e09-b8ed-4158-cf93-aa6ae2751d64"
      },
      "source": [
        "#reading in csv data\n",
        "df2 = pd.read_csv(\"https://archive.ics.uci.edu/ml/machine-learning-databases/wine-quality/winequality-white.csv\", sep=';')\n",
        "winetype = 0\n",
        "df2['winetype'] = winetype\n",
        "df2.head()"
      ],
      "execution_count": null,
      "outputs": [
        {
          "output_type": "execute_result",
          "data": {
            "text/html": [
              "<div>\n",
              "<style scoped>\n",
              "    .dataframe tbody tr th:only-of-type {\n",
              "        vertical-align: middle;\n",
              "    }\n",
              "\n",
              "    .dataframe tbody tr th {\n",
              "        vertical-align: top;\n",
              "    }\n",
              "\n",
              "    .dataframe thead th {\n",
              "        text-align: right;\n",
              "    }\n",
              "</style>\n",
              "<table border=\"1\" class=\"dataframe\">\n",
              "  <thead>\n",
              "    <tr style=\"text-align: right;\">\n",
              "      <th></th>\n",
              "      <th>fixed acidity</th>\n",
              "      <th>volatile acidity</th>\n",
              "      <th>citric acid</th>\n",
              "      <th>residual sugar</th>\n",
              "      <th>chlorides</th>\n",
              "      <th>free sulfur dioxide</th>\n",
              "      <th>total sulfur dioxide</th>\n",
              "      <th>density</th>\n",
              "      <th>pH</th>\n",
              "      <th>sulphates</th>\n",
              "      <th>alcohol</th>\n",
              "      <th>quality</th>\n",
              "      <th>winetype</th>\n",
              "    </tr>\n",
              "  </thead>\n",
              "  <tbody>\n",
              "    <tr>\n",
              "      <th>0</th>\n",
              "      <td>7.0</td>\n",
              "      <td>0.27</td>\n",
              "      <td>0.36</td>\n",
              "      <td>20.7</td>\n",
              "      <td>0.045</td>\n",
              "      <td>45.0</td>\n",
              "      <td>170.0</td>\n",
              "      <td>1.0010</td>\n",
              "      <td>3.00</td>\n",
              "      <td>0.45</td>\n",
              "      <td>8.8</td>\n",
              "      <td>6</td>\n",
              "      <td>0</td>\n",
              "    </tr>\n",
              "    <tr>\n",
              "      <th>1</th>\n",
              "      <td>6.3</td>\n",
              "      <td>0.30</td>\n",
              "      <td>0.34</td>\n",
              "      <td>1.6</td>\n",
              "      <td>0.049</td>\n",
              "      <td>14.0</td>\n",
              "      <td>132.0</td>\n",
              "      <td>0.9940</td>\n",
              "      <td>3.30</td>\n",
              "      <td>0.49</td>\n",
              "      <td>9.5</td>\n",
              "      <td>6</td>\n",
              "      <td>0</td>\n",
              "    </tr>\n",
              "    <tr>\n",
              "      <th>2</th>\n",
              "      <td>8.1</td>\n",
              "      <td>0.28</td>\n",
              "      <td>0.40</td>\n",
              "      <td>6.9</td>\n",
              "      <td>0.050</td>\n",
              "      <td>30.0</td>\n",
              "      <td>97.0</td>\n",
              "      <td>0.9951</td>\n",
              "      <td>3.26</td>\n",
              "      <td>0.44</td>\n",
              "      <td>10.1</td>\n",
              "      <td>6</td>\n",
              "      <td>0</td>\n",
              "    </tr>\n",
              "    <tr>\n",
              "      <th>3</th>\n",
              "      <td>7.2</td>\n",
              "      <td>0.23</td>\n",
              "      <td>0.32</td>\n",
              "      <td>8.5</td>\n",
              "      <td>0.058</td>\n",
              "      <td>47.0</td>\n",
              "      <td>186.0</td>\n",
              "      <td>0.9956</td>\n",
              "      <td>3.19</td>\n",
              "      <td>0.40</td>\n",
              "      <td>9.9</td>\n",
              "      <td>6</td>\n",
              "      <td>0</td>\n",
              "    </tr>\n",
              "    <tr>\n",
              "      <th>4</th>\n",
              "      <td>7.2</td>\n",
              "      <td>0.23</td>\n",
              "      <td>0.32</td>\n",
              "      <td>8.5</td>\n",
              "      <td>0.058</td>\n",
              "      <td>47.0</td>\n",
              "      <td>186.0</td>\n",
              "      <td>0.9956</td>\n",
              "      <td>3.19</td>\n",
              "      <td>0.40</td>\n",
              "      <td>9.9</td>\n",
              "      <td>6</td>\n",
              "      <td>0</td>\n",
              "    </tr>\n",
              "  </tbody>\n",
              "</table>\n",
              "</div>"
            ],
            "text/plain": [
              "   fixed acidity  volatile acidity  citric acid  ...  alcohol  quality  winetype\n",
              "0            7.0              0.27         0.36  ...      8.8        6         0\n",
              "1            6.3              0.30         0.34  ...      9.5        6         0\n",
              "2            8.1              0.28         0.40  ...     10.1        6         0\n",
              "3            7.2              0.23         0.32  ...      9.9        6         0\n",
              "4            7.2              0.23         0.32  ...      9.9        6         0\n",
              "\n",
              "[5 rows x 13 columns]"
            ]
          },
          "metadata": {},
          "execution_count": 177
        }
      ]
    },
    {
      "cell_type": "code",
      "metadata": {
        "colab": {
          "base_uri": "https://localhost:8080/",
          "height": 224
        },
        "id": "2gwPNYkU6pVP",
        "outputId": "a7251374-fa31-403f-d3ed-7912b2f0f319"
      },
      "source": [
        "#reading in csv data\n",
        "df3 = pd.concat([df1, df2])\n",
        "df3.head()"
      ],
      "execution_count": null,
      "outputs": [
        {
          "output_type": "execute_result",
          "data": {
            "text/html": [
              "<div>\n",
              "<style scoped>\n",
              "    .dataframe tbody tr th:only-of-type {\n",
              "        vertical-align: middle;\n",
              "    }\n",
              "\n",
              "    .dataframe tbody tr th {\n",
              "        vertical-align: top;\n",
              "    }\n",
              "\n",
              "    .dataframe thead th {\n",
              "        text-align: right;\n",
              "    }\n",
              "</style>\n",
              "<table border=\"1\" class=\"dataframe\">\n",
              "  <thead>\n",
              "    <tr style=\"text-align: right;\">\n",
              "      <th></th>\n",
              "      <th>fixed acidity</th>\n",
              "      <th>volatile acidity</th>\n",
              "      <th>citric acid</th>\n",
              "      <th>residual sugar</th>\n",
              "      <th>chlorides</th>\n",
              "      <th>free sulfur dioxide</th>\n",
              "      <th>total sulfur dioxide</th>\n",
              "      <th>density</th>\n",
              "      <th>pH</th>\n",
              "      <th>sulphates</th>\n",
              "      <th>alcohol</th>\n",
              "      <th>quality</th>\n",
              "      <th>winetype</th>\n",
              "    </tr>\n",
              "  </thead>\n",
              "  <tbody>\n",
              "    <tr>\n",
              "      <th>0</th>\n",
              "      <td>7.4</td>\n",
              "      <td>0.70</td>\n",
              "      <td>0.00</td>\n",
              "      <td>1.9</td>\n",
              "      <td>0.076</td>\n",
              "      <td>11.0</td>\n",
              "      <td>34.0</td>\n",
              "      <td>0.9978</td>\n",
              "      <td>3.51</td>\n",
              "      <td>0.56</td>\n",
              "      <td>9.4</td>\n",
              "      <td>5</td>\n",
              "      <td>1</td>\n",
              "    </tr>\n",
              "    <tr>\n",
              "      <th>1</th>\n",
              "      <td>7.8</td>\n",
              "      <td>0.88</td>\n",
              "      <td>0.00</td>\n",
              "      <td>2.6</td>\n",
              "      <td>0.098</td>\n",
              "      <td>25.0</td>\n",
              "      <td>67.0</td>\n",
              "      <td>0.9968</td>\n",
              "      <td>3.20</td>\n",
              "      <td>0.68</td>\n",
              "      <td>9.8</td>\n",
              "      <td>5</td>\n",
              "      <td>1</td>\n",
              "    </tr>\n",
              "    <tr>\n",
              "      <th>2</th>\n",
              "      <td>7.8</td>\n",
              "      <td>0.76</td>\n",
              "      <td>0.04</td>\n",
              "      <td>2.3</td>\n",
              "      <td>0.092</td>\n",
              "      <td>15.0</td>\n",
              "      <td>54.0</td>\n",
              "      <td>0.9970</td>\n",
              "      <td>3.26</td>\n",
              "      <td>0.65</td>\n",
              "      <td>9.8</td>\n",
              "      <td>5</td>\n",
              "      <td>1</td>\n",
              "    </tr>\n",
              "    <tr>\n",
              "      <th>3</th>\n",
              "      <td>11.2</td>\n",
              "      <td>0.28</td>\n",
              "      <td>0.56</td>\n",
              "      <td>1.9</td>\n",
              "      <td>0.075</td>\n",
              "      <td>17.0</td>\n",
              "      <td>60.0</td>\n",
              "      <td>0.9980</td>\n",
              "      <td>3.16</td>\n",
              "      <td>0.58</td>\n",
              "      <td>9.8</td>\n",
              "      <td>6</td>\n",
              "      <td>1</td>\n",
              "    </tr>\n",
              "    <tr>\n",
              "      <th>4</th>\n",
              "      <td>7.4</td>\n",
              "      <td>0.70</td>\n",
              "      <td>0.00</td>\n",
              "      <td>1.9</td>\n",
              "      <td>0.076</td>\n",
              "      <td>11.0</td>\n",
              "      <td>34.0</td>\n",
              "      <td>0.9978</td>\n",
              "      <td>3.51</td>\n",
              "      <td>0.56</td>\n",
              "      <td>9.4</td>\n",
              "      <td>5</td>\n",
              "      <td>1</td>\n",
              "    </tr>\n",
              "  </tbody>\n",
              "</table>\n",
              "</div>"
            ],
            "text/plain": [
              "   fixed acidity  volatile acidity  citric acid  ...  alcohol  quality  winetype\n",
              "0            7.4              0.70         0.00  ...      9.4        5         1\n",
              "1            7.8              0.88         0.00  ...      9.8        5         1\n",
              "2            7.8              0.76         0.04  ...      9.8        5         1\n",
              "3           11.2              0.28         0.56  ...      9.8        6         1\n",
              "4            7.4              0.70         0.00  ...      9.4        5         1\n",
              "\n",
              "[5 rows x 13 columns]"
            ]
          },
          "metadata": {},
          "execution_count": 178
        }
      ]
    },
    {
      "cell_type": "code",
      "metadata": {
        "colab": {
          "base_uri": "https://localhost:8080/",
          "height": 296
        },
        "id": "LfV90RPRAtEl",
        "outputId": "95a1fef0-e3ea-46c2-efb1-f865470d3779"
      },
      "source": [
        "#Visualize the univariate distribution of the target feature\n",
        "df3['winetype'].hist()\n",
        "plt.xlabel(\"Winetype\")\n",
        "plt.ylabel(\"Count\")"
      ],
      "execution_count": null,
      "outputs": [
        {
          "output_type": "execute_result",
          "data": {
            "text/plain": [
              "Text(0, 0.5, 'Count')"
            ]
          },
          "metadata": {},
          "execution_count": 179
        },
        {
          "output_type": "display_data",
          "data": {
            "image/png": "[encoded data removed]",
            "text/plain": [
              "<Figure size 432x288 with 1 Axes>"
            ]
          },
          "metadata": {
            "needs_background": "light"
          }
        }
      ]
    },
    {
      "cell_type": "code",
      "metadata": {
        "colab": {
          "base_uri": "https://localhost:8080/",
          "height": 296
        },
        "id": "1snktml67Bj9",
        "outputId": "0c7747b4-8bd9-42ee-bcff-4a7df2b6d5d8"
      },
      "source": [
        "#Visualize three continuous explanatory variables\n",
        "df3['fixed acidity'].hist()\n",
        "plt.xlabel(\"Fixed acidity\")\n",
        "plt.ylabel(\"Count\")"
      ],
      "execution_count": null,
      "outputs": [
        {
          "output_type": "execute_result",
          "data": {
            "text/plain": [
              "Text(0, 0.5, 'Count')"
            ]
          },
          "metadata": {},
          "execution_count": 180
        },
        {
          "output_type": "display_data",
          "data": {
            "image/png": "[encoded data removed]",
            "text/plain": [
              "<Figure size 432x288 with 1 Axes>"
            ]
          },
          "metadata": {
            "needs_background": "light"
          }
        }
      ]
    },
    {
      "cell_type": "code",
      "metadata": {
        "colab": {
          "base_uri": "https://localhost:8080/",
          "height": 296
        },
        "id": "n3BMFS6d7epL",
        "outputId": "a068a2e0-6e28-4fae-992c-5dde1d9d23e9"
      },
      "source": [
        "#Visualize three continuous explanatory variables\n",
        "df3['volatile acidity'].hist()\n",
        "plt.xlabel(\"Volatile acidity\")\n",
        "plt.ylabel(\"Count\")"
      ],
      "execution_count": null,
      "outputs": [
        {
          "output_type": "execute_result",
          "data": {
            "text/plain": [
              "Text(0, 0.5, 'Count')"
            ]
          },
          "metadata": {},
          "execution_count": 181
        },
        {
          "output_type": "display_data",
          "data": {
            "image/png": "[encoded data removed]",
            "text/plain": [
              "<Figure size 432x288 with 1 Axes>"
            ]
          },
          "metadata": {
            "needs_background": "light"
          }
        }
      ]
    },
    {
      "cell_type": "code",
      "metadata": {
        "colab": {
          "base_uri": "https://localhost:8080/",
          "height": 296
        },
        "id": "MCmaKSRX8NI5",
        "outputId": "9ff1c031-08d4-400c-b8c6-ba27a5b23f06"
      },
      "source": [
        "#Visualize three continuous explanatory variables\n",
        "df3['pH'].hist()\n",
        "plt.xlabel(\"pH\")\n",
        "plt.ylabel(\"Count\")"
      ],
      "execution_count": null,
      "outputs": [
        {
          "output_type": "execute_result",
          "data": {
            "text/plain": [
              "Text(0, 0.5, 'Count')"
            ]
          },
          "metadata": {},
          "execution_count": 182
        },
        {
          "output_type": "display_data",
          "data": {
            "image/png": "[encoded data removed]",
            "text/plain": [
              "<Figure size 432x288 with 1 Axes>"
            ]
          },
          "metadata": {
            "needs_background": "light"
          }
        }
      ]
    },
    {
      "cell_type": "markdown",
      "metadata": {
        "id": "tBmRAT15A_zg"
      },
      "source": [
        "###2. Split data into training and test set. Build models that evaluate the relationship between all available X variables in the dataset and the target variable. Evaluate Logistic Regression, Penalized Logistic Regression, and KNN for classification using cross-validation. How different are the results? How does scaling the data with StandardScaler influence the results?"
      ]
    },
    {
      "cell_type": "code",
      "metadata": {
        "colab": {
          "base_uri": "https://localhost:8080/",
          "height": 206
        },
        "id": "O-pYPvmVBFhN",
        "outputId": "90d6c9d5-ac75-4de9-e3da-b9bb906afade"
      },
      "source": [
        "#Split data into training and test set\n",
        "y0 = df3['winetype']\n",
        "X0 = df3.loc[:, df3.columns !='winetype']\n",
        "X0 = X0.iloc[:, 1:]\n",
        "\n",
        "X0.head()"
      ],
      "execution_count": null,
      "outputs": [
        {
          "output_type": "execute_result",
          "data": {
            "text/html": [
              "<div>\n",
              "<style scoped>\n",
              "    .dataframe tbody tr th:only-of-type {\n",
              "        vertical-align: middle;\n",
              "    }\n",
              "\n",
              "    .dataframe tbody tr th {\n",
              "        vertical-align: top;\n",
              "    }\n",
              "\n",
              "    .dataframe thead th {\n",
              "        text-align: right;\n",
              "    }\n",
              "</style>\n",
              "<table border=\"1\" class=\"dataframe\">\n",
              "  <thead>\n",
              "    <tr style=\"text-align: right;\">\n",
              "      <th></th>\n",
              "      <th>volatile acidity</th>\n",
              "      <th>citric acid</th>\n",
              "      <th>residual sugar</th>\n",
              "      <th>chlorides</th>\n",
              "      <th>free sulfur dioxide</th>\n",
              "      <th>total sulfur dioxide</th>\n",
              "      <th>density</th>\n",
              "      <th>pH</th>\n",
              "      <th>sulphates</th>\n",
              "      <th>alcohol</th>\n",
              "      <th>quality</th>\n",
              "    </tr>\n",
              "  </thead>\n",
              "  <tbody>\n",
              "    <tr>\n",
              "      <th>0</th>\n",
              "      <td>0.70</td>\n",
              "      <td>0.00</td>\n",
              "      <td>1.9</td>\n",
              "      <td>0.076</td>\n",
              "      <td>11.0</td>\n",
              "      <td>34.0</td>\n",
              "      <td>0.9978</td>\n",
              "      <td>3.51</td>\n",
              "      <td>0.56</td>\n",
              "      <td>9.4</td>\n",
              "      <td>5</td>\n",
              "    </tr>\n",
              "    <tr>\n",
              "      <th>1</th>\n",
              "      <td>0.88</td>\n",
              "      <td>0.00</td>\n",
              "      <td>2.6</td>\n",
              "      <td>0.098</td>\n",
              "      <td>25.0</td>\n",
              "      <td>67.0</td>\n",
              "      <td>0.9968</td>\n",
              "      <td>3.20</td>\n",
              "      <td>0.68</td>\n",
              "      <td>9.8</td>\n",
              "      <td>5</td>\n",
              "    </tr>\n",
              "    <tr>\n",
              "      <th>2</th>\n",
              "      <td>0.76</td>\n",
              "      <td>0.04</td>\n",
              "      <td>2.3</td>\n",
              "      <td>0.092</td>\n",
              "      <td>15.0</td>\n",
              "      <td>54.0</td>\n",
              "      <td>0.9970</td>\n",
              "      <td>3.26</td>\n",
              "      <td>0.65</td>\n",
              "      <td>9.8</td>\n",
              "      <td>5</td>\n",
              "    </tr>\n",
              "    <tr>\n",
              "      <th>3</th>\n",
              "      <td>0.28</td>\n",
              "      <td>0.56</td>\n",
              "      <td>1.9</td>\n",
              "      <td>0.075</td>\n",
              "      <td>17.0</td>\n",
              "      <td>60.0</td>\n",
              "      <td>0.9980</td>\n",
              "      <td>3.16</td>\n",
              "      <td>0.58</td>\n",
              "      <td>9.8</td>\n",
              "      <td>6</td>\n",
              "    </tr>\n",
              "    <tr>\n",
              "      <th>4</th>\n",
              "      <td>0.70</td>\n",
              "      <td>0.00</td>\n",
              "      <td>1.9</td>\n",
              "      <td>0.076</td>\n",
              "      <td>11.0</td>\n",
              "      <td>34.0</td>\n",
              "      <td>0.9978</td>\n",
              "      <td>3.51</td>\n",
              "      <td>0.56</td>\n",
              "      <td>9.4</td>\n",
              "      <td>5</td>\n",
              "    </tr>\n",
              "  </tbody>\n",
              "</table>\n",
              "</div>"
            ],
            "text/plain": [
              "   volatile acidity  citric acid  residual sugar  ...  sulphates  alcohol  quality\n",
              "0              0.70         0.00             1.9  ...       0.56      9.4        5\n",
              "1              0.88         0.00             2.6  ...       0.68      9.8        5\n",
              "2              0.76         0.04             2.3  ...       0.65      9.8        5\n",
              "3              0.28         0.56             1.9  ...       0.58      9.8        6\n",
              "4              0.70         0.00             1.9  ...       0.56      9.4        5\n",
              "\n",
              "[5 rows x 11 columns]"
            ]
          },
          "metadata": {},
          "execution_count": 183
        }
      ]
    },
    {
      "cell_type": "code",
      "metadata": {
        "colab": {
          "base_uri": "https://localhost:8080/"
        },
        "id": "DJYcwYAwDNTs",
        "outputId": "ccb7aec8-b1a8-48fe-90f6-29379bd00875"
      },
      "source": [
        "X0_train, X0_test, y0_train, y0_test = train_test_split(X0, y0, random_state=42)\n",
        "\n",
        "print(X0.shape)\n",
        "X0_train.shape"
      ],
      "execution_count": null,
      "outputs": [
        {
          "output_type": "stream",
          "name": "stdout",
          "text": [
            "(6497, 11)\n"
          ]
        },
        {
          "output_type": "execute_result",
          "data": {
            "text/plain": [
              "(4872, 11)"
            ]
          },
          "metadata": {},
          "execution_count": 184
        }
      ]
    },
    {
      "cell_type": "code",
      "metadata": {
        "colab": {
          "base_uri": "https://localhost:8080/"
        },
        "id": "4h6-Geq8bApi",
        "outputId": "5dfce143-ae5d-45b4-910c-322ee043f342"
      },
      "source": [
        "#Before scaling the data with the StandardScaler\n",
        "#Logistic regression\n",
        "from sklearn.linear_model import LogisticRegression\n",
        "\n",
        "logreg1 = LogisticRegression(penalty='none', max_iter=100).fit(X0_train, y0_train)\n",
        "\n",
        "print(\"logreg1 .coef_: {}\".format(logreg1 .coef_))\n",
        "print(\"Training set score: {:.2f}\".format(logreg1.score(X0_train, y0_train)))\n",
        "print(\"Test set score: {:.2f}\".format(logreg1.score(X0_test, y0_test)))\n",
        "print(\"Cross validation score: {:.2f}\".format(np.mean(cross_val_score(LogisticRegression(penalty='none', max_iter=66666), X0_train, y0_train, scoring=\"r2\"))))"
      ],
      "execution_count": null,
      "outputs": [
        {
          "output_type": "stream",
          "name": "stdout",
          "text": [
            "logreg1 .coef_: [[ 9.60234151e+00 -1.83097001e+00 -1.07007598e+00  2.22738646e+01\n",
            "   7.46497218e-02 -5.67419278e-02  1.59702790e+03 -6.50090404e-01\n",
            "   4.10993594e+00  1.34356503e+00  4.03400927e-01]]\n",
            "Training set score: 0.99\n",
            "Test set score: 0.99\n",
            "Cross validation score: 0.97\n"
          ]
        }
      ]
    },
    {
      "cell_type": "code",
      "metadata": {
        "colab": {
          "base_uri": "https://localhost:8080/"
        },
        "id": "mxk83JErDWce",
        "outputId": "3cf89161-3481-49c0-a3c4-20090907ca3a"
      },
      "source": [
        "#Penalized regression\n",
        "from sklearn.linear_model import LogisticRegression\n",
        "\n",
        "logreg2 = LogisticRegression(C=100, penalty='l2', max_iter=100).fit(X0_train, y0_train)\n",
        "\n",
        "print(\"logreg2 .coef_: {}\".format(logreg2 .coef_))\n",
        "print(\"Training set score: {:.2f}\".format(logreg2.score(X0_train, y0_train)))\n",
        "print(\"Test set score: {:.2f}\".format(logreg2.score(X0_test, y0_test)))\n",
        "print(\"Cross validation score: {:.2f}\".format(np.mean(cross_val_score(LogisticRegression(C=100, penalty='l2', max_iter=66666), X0_train, y0_train, scoring=\"r2\"))))"
      ],
      "execution_count": null,
      "outputs": [
        {
          "output_type": "stream",
          "name": "stdout",
          "text": [
            "logreg2 .coef_: [[14.34756135  3.32192584 -0.14148114 27.12407148  0.05109144 -0.07557053\n",
            "  19.14536176  5.62649393 10.93580493 -0.91829785  0.12343947]]\n",
            "Training set score: 0.99\n",
            "Test set score: 0.98\n",
            "Cross validation score: 0.92\n"
          ]
        }
      ]
    },
    {
      "cell_type": "code",
      "metadata": {
        "colab": {
          "base_uri": "https://localhost:8080/"
        },
        "id": "cs3dP1HSwfnO",
        "outputId": "52b8d4a9-3fc6-4279-9bfb-5c1fdb9ec0b3"
      },
      "source": [
        "from sklearn.linear_model import LogisticRegression\n",
        "\n",
        "logreg3 = LogisticRegression(C=100, penalty='l1', solver='saga', max_iter=100).fit(X0_train, y0_train)\n",
        "\n",
        "print(\"logreg3 .coef_: {}\".format(logreg3 .coef_))\n",
        "print(\"Training set score: {:.2f}\".format(logreg3.score(X0_train, y0_train)))\n",
        "print(\"Test set score: {:.2f}\".format(logreg3.score(X0_test, y0_test)))\n",
        "print(\"Cross validation score: {:.2f}\".format(np.mean(cross_val_score(LogisticRegression(C=100, penalty='l1',solver='saga', max_iter=66666), X0_train, y0_train, scoring=\"r2\"))))"
      ],
      "execution_count": null,
      "outputs": [
        {
          "output_type": "stream",
          "name": "stdout",
          "text": [
            "logreg3 .coef_: [[ 4.48748261  0.2450465  -0.12163232  0.82702488  0.03667756 -0.06591954\n",
            "   0.58978615  2.89365795  3.52943976 -0.8465404  -0.16957861]]\n",
            "Training set score: 0.97\n",
            "Test set score: 0.96\n",
            "Cross validation score: 0.82\n"
          ]
        }
      ]
    },
    {
      "cell_type": "code",
      "metadata": {
        "colab": {
          "base_uri": "https://localhost:8080/"
        },
        "id": "gy8IjV2lKtL1",
        "outputId": "adc5078a-fb83-40c6-c0fc-45213821cb4a"
      },
      "source": [
        "#KNN for classification\n",
        "from sklearn.neighbors import KNeighborsClassifier\n",
        "\n",
        "knn = KNeighborsClassifier()\n",
        "knn.fit(X0_train, y0_train)\n",
        "\n",
        "print(\"Training set score: {:.2f}\".format(knn.score(X0_train, y0_train)))\n",
        "print(\"Test set score: {:.2f}\".format(knn.score(X0_test, y0_test)))\n",
        "print(\"Cross validation score: {:.2f}\".format(np.mean(cross_val_score(KNeighborsClassifier(), X0_train, y0_train, scoring=\"r2\"))))"
      ],
      "execution_count": null,
      "outputs": [
        {
          "output_type": "stream",
          "name": "stdout",
          "text": [
            "Training set score: 0.96\n",
            "Test set score: 0.93\n",
            "Cross validation score: 0.65\n"
          ]
        }
      ]
    },
    {
      "cell_type": "code",
      "metadata": {
        "colab": {
          "base_uri": "https://localhost:8080/"
        },
        "id": "AUxP_hLZR5fh",
        "outputId": "2035f04c-0406-49e8-872a-1428060646e0"
      },
      "source": [
        "#After scaling the data with StandardScaler\n",
        "#Logistic regression\n",
        "scaler = preprocessing.StandardScaler()\n",
        "scaler.fit(X0_train)\n",
        "X0_train_scaled = scaler.transform(X0_train)\n",
        "X0_test_scaled = scaler.transform(X0_test)\n",
        "logreg1 = LogisticRegression(penalty='none', max_iter=66666).fit(X0_train_scaled, y0_train)\n",
        "\n",
        "print(\"Training set score: {:.2f}\".format(logreg1.score(X0_train_scaled, y0_train)))\n",
        "print(\"Test set score: {:.2f}\".format(logreg1.score(X0_test_scaled, y0_test)))\n",
        "print(\"Cross validation score: {:.2f}\".format(np.mean(cross_val_score(LogisticRegression(penalty='none', max_iter=66666).fit(X0_train_scaled, y0_train), X0_train_scaled, y0_train, scoring=\"r2\"))))"
      ],
      "execution_count": null,
      "outputs": [
        {
          "output_type": "stream",
          "name": "stdout",
          "text": [
            "Training set score: 0.99\n",
            "Test set score: 0.99\n",
            "Cross validation score: 0.97\n"
          ]
        }
      ]
    },
    {
      "cell_type": "code",
      "metadata": {
        "colab": {
          "base_uri": "https://localhost:8080/"
        },
        "id": "ZQdmy-GkUfBV",
        "outputId": "cd1a7882-d5e8-4f32-ba55-a8a44c749291"
      },
      "source": [
        "#Penalized Logistic Regression\n",
        "logreg2 = LogisticRegression(C=100, penalty='l2', max_iter=66666).fit(X0_train_scaled, y0_train)\n",
        "\n",
        "print(\"Training set score: {:.2f}\".format(logreg2.score(X0_train_scaled, y0_train)))\n",
        "print(\"Test set score: {:.2f}\".format(logreg2.score(X0_test_scaled, y0_test)))\n",
        "print(\"Cross validation score: {:.2f}\".format(np.mean(cross_val_score(LogisticRegression(C=100, penalty='l2', max_iter=66666), X0_train_scaled, y0_train, scoring=\"r2\"))))"
      ],
      "execution_count": null,
      "outputs": [
        {
          "output_type": "stream",
          "name": "stdout",
          "text": [
            "Training set score: 0.99\n",
            "Test set score: 0.99\n",
            "Cross validation score: 0.97\n"
          ]
        }
      ]
    },
    {
      "cell_type": "code",
      "metadata": {
        "colab": {
          "base_uri": "https://localhost:8080/"
        },
        "id": "ZK4gLQOSyFNV",
        "outputId": "a9004d6a-c9fe-42b9-b613-79b6f7fd6f2b"
      },
      "source": [
        "#Penalized Logistic Regression (l2 penalty\")\n",
        "logreg3 = LogisticRegression(C=100, penalty='l1', solver='saga', max_iter=66666).fit(X0_train_scaled, y0_train)\n",
        "\n",
        "print(\"Training set score: {:.2f}\".format(logreg3.score(X0_train_scaled, y0_train)))\n",
        "print(\"Test set score: {:.2f}\".format(logreg3.score(X0_test_scaled, y0_test)))\n",
        "print(\"Cross validation score: {:.2f}\".format(np.mean(cross_val_score(LogisticRegression(C=100, penalty='l1', solver='saga', max_iter=66666), X0_train_scaled, y0_train, scoring=\"r2\"))))"
      ],
      "execution_count": null,
      "outputs": [
        {
          "output_type": "stream",
          "name": "stdout",
          "text": [
            "Training set score: 0.99\n",
            "Test set score: 0.99\n",
            "Cross validation score: 0.97\n"
          ]
        }
      ]
    },
    {
      "cell_type": "code",
      "metadata": {
        "colab": {
          "base_uri": "https://localhost:8080/"
        },
        "id": "UMGOxXbSU71F",
        "outputId": "ec1f289b-313b-4373-b8d6-11294b86989d"
      },
      "source": [
        "#KNN for classification\n",
        "knn = KNeighborsClassifier().fit(X0_train_scaled, y0_train)\n",
        "\n",
        "print(\"Training set score: {:.2f}\".format(knn.score(X0_train_scaled, y0_train)))\n",
        "print(\"Test set score: {:.2f}\".format(knn.score(X0_test_scaled, y0_test)))\n",
        "print(\"Cross validation score: {:.2f}\".format(np.mean(cross_val_score(KNeighborsClassifier(), X0_train_scaled, y0_train, scoring=\"r2\"))))"
      ],
      "execution_count": null,
      "outputs": [
        {
          "output_type": "stream",
          "name": "stdout",
          "text": [
            "Training set score: 0.99\n",
            "Test set score: 0.99\n",
            "Cross validation score: 0.96\n"
          ]
        }
      ]
    },
    {
      "cell_type": "markdown",
      "metadata": {
        "id": "K7z89m18XESo"
      },
      "source": [
        "StandardScaler has improved all of the accuracy of the models."
      ]
    },
    {
      "cell_type": "markdown",
      "metadata": {
        "id": "TrxKNkgtVgP9"
      },
      "source": [
        "###3. Tune the parameters where possible using GridSearchCV. Do the results improve?"
      ]
    },
    {
      "cell_type": "code",
      "metadata": {
        "colab": {
          "base_uri": "https://localhost:8080/"
        },
        "id": "d5mOgmUKXKnW",
        "outputId": "cb4c3b1b-8a0b-49fb-fd53-1b01958f8ffd"
      },
      "source": [
        "#Penalized logistic regression\n",
        "param_grid1 = {'C': np.arange(1, 15, 2), 'penalty': ['l1','l2']} \n",
        "grid = GridSearchCV(LogisticRegression(max_iter=66666), param_grid=param_grid1)\n",
        "grid.fit(X0_train_scaled, y0_train)\n",
        "\n",
        "print(\"Best parameters: {}\".format(grid.best_params_))\n",
        "print(\"Training set score: {:.2f}\".format(grid.score(X0_train_scaled, y0_train)))\n",
        "print(\"Test set score: {:.2f}\".format(grid.score(X0_test_scaled, y0_test)))\n",
        "print(\"Best mean cross-validation score: {:.2f}\".format(grid.best_score_))"
      ],
      "execution_count": null,
      "outputs": [
        {
          "output_type": "stream",
          "name": "stdout",
          "text": [
            "Best parameters: {'C': 5}\n",
            "Training set score: 0.99\n",
            "Test set score: 0.99\n",
            "Best mean cross-validation score: 0.99\n"
          ]
        }
      ]
    },
    {
      "cell_type": "code",
      "metadata": {
        "colab": {
          "base_uri": "https://localhost:8080/"
        },
        "id": "dIDa91c8XafM",
        "outputId": "40a7425a-0f1f-4954-831f-a6967bf03bad"
      },
      "source": [
        "param_grid2 = {'C': np.arange(1, 15, 2), 'penalty': ['l1','l2']} \n",
        "grid = GridSearchCV(LogisticRegression(, solver='saga', max_iter=66666), param_grid=param_grid2)\n",
        "grid.fit(X0_train_scaled, y0_train)\n",
        "\n",
        "print(\"Best parameters: {}\".format(grid.best_params_))\n",
        "print(\"Training set score: {:.2f}\".format(grid.score(X0_train_scaled, y0_train)))\n",
        "print(\"Test set score: {:.2f}\".format(grid.score(X0_test_scaled, y0_test)))\n",
        "print(\"Best mean cross-validation score: {:.2f}\".format(grid.best_score_))"
      ],
      "execution_count": null,
      "outputs": [
        {
          "output_type": "stream",
          "name": "stdout",
          "text": [
            "Best parameters: {'C': 1}\n",
            "Training set score: 0.99\n",
            "Test set score: 0.99\n",
            "Best mean cross-validation score: 0.99\n"
          ]
        }
      ]
    },
    {
      "cell_type": "code",
      "metadata": {
        "colab": {
          "base_uri": "https://localhost:8080/"
        },
        "id": "kvfzbGDxVjTG",
        "outputId": "be0bda10-d714-4733-dd40-bce6133f59c0"
      },
      "source": [
        "#KNN for classification\n",
        "param_grid3 = {'n_neighbors': np.arange(1, 15, 2)} \n",
        "grid = GridSearchCV(KNeighborsClassifier(), param_grid=param_grid3)\n",
        "grid.fit(X0_train_scaled, y0_train)\n",
        "\n",
        "print(\"Best parameters: {}\".format(grid.best_params_))\n",
        "print(\"Test set score: {:.2f}\".format(grid.score(X0_train_scaled, y0_train)))\n",
        "print(\"Test set score: {:.2f}\".format(grid.score(X0_test_scaled, y0_test)))\n",
        "print(\"Best mean cross-validation score: {:.2f}\".format(grid.best_score_))"
      ],
      "execution_count": null,
      "outputs": [
        {
          "output_type": "stream",
          "name": "stdout",
          "text": [
            "Best parameters: {'n_neighbors': 1}\n",
            "Test set score: 1.00\n",
            "Test set score: 0.99\n",
            "Best mean cross-validation score: 0.99\n"
          ]
        }
      ]
    },
    {
      "cell_type": "markdown",
      "metadata": {
        "id": "AkyOeFQdYLzo"
      },
      "source": [
        "The results have improved in all models after tuning the parameters, especially for KNN for classification model."
      ]
    },
    {
      "cell_type": "markdown",
      "metadata": {
        "id": "NIRibi5HeOCf"
      },
      "source": [
        "###4. Change the cross-validation strategy in GridSearchCV from ‘stratified k-fold’ to ‘kfold’ with shuffling. Do the parameters for models that can be tuned change? Do they change if you change the random seed of the shuffling? Or if you change the random state of the split into training and test data?\n",
        "\n"
      ]
    },
    {
      "cell_type": "code",
      "metadata": {
        "colab": {
          "base_uri": "https://localhost:8080/"
        },
        "id": "vmq4fNkA2mi1",
        "outputId": "cdd163f6-3b2d-4ae9-da86-bc1d374704c8"
      },
      "source": [
        "#Change from ‘stratified k-fold’ to ‘kfold’ with shuffling\n",
        "#Penalized logistic regression\n",
        "from sklearn.model_selection import KFold\n",
        "\n",
        "param_grid1 = {'C': np.arange(1, 15, 2)} \n",
        "cv=KFold(shuffle=True, random_state = 1)\n",
        "grid = GridSearchCV(LogisticRegression(penalty='l2', max_iter=66666), param_grid=param_grid1, cv=cv)\n",
        "grid.fit(X0_train_scaled, y0_train)\n",
        "\n",
        "print(\"Best parameters: {}\".format(grid.best_params_))\n",
        "print(\"Training set score: {:.2f}\".format(grid.score(X0_train_scaled, y0_train)))\n",
        "print(\"Test set score: {:.2f}\".format(grid.score(X0_test_scaled, y0_test)))\n",
        "print(\"Best mean cross-validation score: {:.2f}\".format(grid.best_score_))"
      ],
      "execution_count": null,
      "outputs": [
        {
          "output_type": "stream",
          "name": "stdout",
          "text": [
            "Best parameters: {'C': 7}\n",
            "Training set score: 0.99\n",
            "Test set score: 0.99\n",
            "Best mean cross-validation score: 0.99\n"
          ]
        }
      ]
    },
    {
      "cell_type": "code",
      "metadata": {
        "colab": {
          "base_uri": "https://localhost:8080/"
        },
        "id": "iayt17kleQ3P",
        "outputId": "47271e02-c4ed-477e-f38f-f29c88fabf91"
      },
      "source": [
        "param_grid2 = {'C': np.arange(1, 15, 2)} \n",
        "cv=KFold(shuffle=True, random_state = 1)\n",
        "grid = GridSearchCV(LogisticRegression(penalty='l1',solver='saga', max_iter=66666), param_grid=param_grid2, cv=cv)\n",
        "grid.fit(X0_train_scaled, y0_train)\n",
        "\n",
        "print(\"Best parameters: {}\".format(grid.best_params_))\n",
        "print(\"Training set score: {:.2f}\".format(grid.score(X0_train_scaled, y0_train)))\n",
        "print(\"Test set score: {:.2f}\".format(grid.score(X0_test_scaled, y0_test)))\n",
        "print(\"Best mean cross-validation score: {:.2f}\".format(grid.best_score_))"
      ],
      "execution_count": null,
      "outputs": [
        {
          "output_type": "stream",
          "name": "stdout",
          "text": [
            "Best parameters: {'C': 1}\n",
            "Training set score: 0.99\n",
            "Test set score: 0.99\n",
            "Best mean cross-validation score: 0.99\n"
          ]
        }
      ]
    },
    {
      "cell_type": "code",
      "metadata": {
        "colab": {
          "base_uri": "https://localhost:8080/"
        },
        "id": "O_TYNvvk05cm",
        "outputId": "47d9984b-c82b-4b7b-b11f-cc00119c7728"
      },
      "source": [
        "#KNN for classification\n",
        "param_grid3 = {'n_neighbors': np.arange(1, 15, 2)} \n",
        "cv=KFold(shuffle=True, random_state = 1)\n",
        "grid = GridSearchCV(KNeighborsClassifier(), param_grid=param_grid3, cv=cv)\n",
        "grid.fit(X0_train_scaled, y0_train)\n",
        "\n",
        "print(\"Best parameters: {}\".format(grid.best_params_))\n",
        "print(\"Test set score: {:.2f}\".format(grid.score(X0_train_scaled, y0_train)))\n",
        "print(\"Test set score: {:.2f}\".format(grid.score(X0_test_scaled, y0_test)))\n",
        "print(\"Best mean cross-validation score: {:.2f}\".format(grid.best_score_))"
      ],
      "execution_count": null,
      "outputs": [
        {
          "output_type": "stream",
          "name": "stdout",
          "text": [
            "Best parameters: {'n_neighbors': 1}\n",
            "Test set score: 1.00\n",
            "Test set score: 0.99\n",
            "Best mean cross-validation score: 0.99\n"
          ]
        }
      ]
    },
    {
      "cell_type": "markdown",
      "metadata": {
        "id": "EQF6eC_AY5Ls"
      },
      "source": [
        "The parameter for penalized logistic regression model with 'l2' penalty has changed from 5 to 9 after changing the cross-validation strategy in GridSearchCV from ‘stratified k-fold’ to ‘kfold’ with shuffling, but the other two models' parameters haven't changed.\n",
        "\n"
      ]
    },
    {
      "cell_type": "code",
      "metadata": {
        "colab": {
          "base_uri": "https://localhost:8080/"
        },
        "id": "iASxnol38wvj",
        "outputId": "e7266bad-5ecc-4f3e-b641-2482c398e955"
      },
      "source": [
        "#change the random seed of the shuffling\n",
        "#Penalized logistic regression\n",
        "param_grid1 = {'C': np.arange(1, 15, 2)} \n",
        "cv=KFold(shuffle=True, random_state=2)\n",
        "grid = GridSearchCV(LogisticRegression(penalty='l2', max_iter=66666), param_grid=param_grid1, cv=cv)\n",
        "grid.fit(X0_train_scaled, y0_train)\n",
        "\n",
        "print(\"Best parameters: {}\".format(grid.best_params_))\n",
        "print(\"Training set score: {:.2f}\".format(grid.score(X0_train_scaled, y0_train)))\n",
        "print(\"Test set score: {:.2f}\".format(grid.score(X0_test_scaled, y0_test)))\n",
        "print(\"Best mean cross-validation score: {:.2f}\".format(grid.best_score_))"
      ],
      "execution_count": null,
      "outputs": [
        {
          "output_type": "stream",
          "name": "stdout",
          "text": [
            "Best parameters: {'C': 5}\n",
            "Training set score: 0.99\n",
            "Test set score: 0.99\n",
            "Best mean cross-validation score: 0.99\n"
          ]
        }
      ]
    },
    {
      "cell_type": "code",
      "metadata": {
        "colab": {
          "base_uri": "https://localhost:8080/"
        },
        "id": "sRTk1YRhBtq_",
        "outputId": "ac579ba7-e834-4003-f355-9f127111a8c1"
      },
      "source": [
        "param_grid2 = {'C': np.arange(1, 15, 2)} \n",
        "cv=KFold(shuffle=True, random_state=2)\n",
        "grid = GridSearchCV(LogisticRegression(penalty='l1',solver='saga', max_iter=66666), param_grid=param_grid2, cv=cv)\n",
        "grid.fit(X0_train_scaled, y0_train)\n",
        "\n",
        "print(\"Best parameters: {}\".format(grid.best_params_))\n",
        "print(\"Training set score: {:.2f}\".format(grid.score(X0_train_scaled, y0_train)))\n",
        "print(\"Test set score: {:.2f}\".format(grid.score(X0_test_scaled, y0_test)))\n",
        "print(\"Best mean cross-validation score: {:.2f}\".format(grid.best_score_))"
      ],
      "execution_count": null,
      "outputs": [
        {
          "output_type": "stream",
          "name": "stdout",
          "text": [
            "Best parameters: {'C': 1}\n",
            "Training set score: 0.99\n",
            "Test set score: 0.99\n",
            "Best mean cross-validation score: 0.99\n"
          ]
        }
      ]
    },
    {
      "cell_type": "code",
      "metadata": {
        "colab": {
          "base_uri": "https://localhost:8080/"
        },
        "id": "jjMXAO0MB4Dx",
        "outputId": "2769e3ea-65b0-4ab8-9570-ab283615bc99"
      },
      "source": [
        "#KNN for classification\n",
        "param_grid3 = {'n_neighbors': np.arange(1, 15, 2)} \n",
        "cv=KFold(shuffle=True, random_state=2)\n",
        "grid = GridSearchCV(KNeighborsClassifier(), param_grid=param_grid3, cv=cv)\n",
        "grid.fit(X0_train_scaled, y0_train)\n",
        "\n",
        "print(\"Best parameters: {}\".format(grid.best_params_))\n",
        "print(\"Test set score: {:.2f}\".format(grid.score(X0_train_scaled, y0_train)))\n",
        "print(\"Test set score: {:.2f}\".format(grid.score(X0_test_scaled, y0_test)))\n",
        "print(\"Best mean cross-validation score: {:.2f}\".format(grid.best_score_))"
      ],
      "execution_count": null,
      "outputs": [
        {
          "output_type": "stream",
          "name": "stdout",
          "text": [
            "Best parameters: {'n_neighbors': 1}\n",
            "Test set score: 1.00\n",
            "Test set score: 0.99\n",
            "Best mean cross-validation score: 0.99\n"
          ]
        }
      ]
    },
    {
      "cell_type": "markdown",
      "metadata": {
        "id": "805Elb-gaOWV"
      },
      "source": [
        "Changing the random seed of the shuffling hasn't change the scores or parameters of any of the models."
      ]
    },
    {
      "cell_type": "code",
      "metadata": {
        "id": "UpFkqx_a6cug"
      },
      "source": [
        "#Change the random state of the split into training and test data\n",
        "X1_train, X1_test, y1_train, y1_test = train_test_split(X0, y0, random_state=20)\n",
        "\n",
        "scaler = preprocessing.StandardScaler()\n",
        "scaler.fit(X1_train)\n",
        "X1_train_scaled = scaler.transform(X1_train)\n",
        "X1_test_scaled = scaler.transform(X1_test)"
      ],
      "execution_count": null,
      "outputs": []
    },
    {
      "cell_type": "code",
      "metadata": {
        "colab": {
          "base_uri": "https://localhost:8080/"
        },
        "id": "yAWy64P37--D",
        "outputId": "ecebc922-064a-499c-cb1b-3fa3fd6c61ab"
      },
      "source": [
        "#Penalized logistic regression\n",
        "param_grid1 = {'C': np.arange(1, 15, 2)} \n",
        "grid = GridSearchCV(LogisticRegression(penalty='l2', max_iter=66666), param_grid=param_grid1)\n",
        "grid.fit(X1_train_scaled, y1_train)\n",
        "\n",
        "print(\"Best parameters: {}\".format(grid.best_params_))\n",
        "print(\"Training set score: {:.2f}\".format(grid.score(X1_train_scaled, y1_train)))\n",
        "print(\"Test set score: {:.2f}\".format(grid.score(X1_test_scaled, y1_test)))\n",
        "print(\"Best mean cross-validation score: {:.2f}\".format(grid.best_score_))"
      ],
      "execution_count": null,
      "outputs": [
        {
          "output_type": "stream",
          "name": "stdout",
          "text": [
            "Best parameters: {'C': 5}\n",
            "Training set score: 1.00\n",
            "Test set score: 0.99\n",
            "Best mean cross-validation score: 0.99\n"
          ]
        }
      ]
    },
    {
      "cell_type": "code",
      "metadata": {
        "colab": {
          "base_uri": "https://localhost:8080/"
        },
        "id": "RpUo0-_B8uSO",
        "outputId": "3cc1b67c-bf0f-4fa4-d25d-8e0880470083"
      },
      "source": [
        "param_grid2 = {'C': np.arange(1, 15, 2)} \n",
        "grid = GridSearchCV(LogisticRegression(penalty='l1', solver='saga', max_iter=66666), param_grid=param_grid2)\n",
        "grid.fit(X1_train_scaled, y1_train)\n",
        "\n",
        "print(\"Best parameters: {}\".format(grid.best_params_))\n",
        "print(\"Training set score: {:.2f}\".format(grid.score(X1_train_scaled, y1_train)))\n",
        "print(\"Test set score: {:.2f}\".format(grid.score(X1_test_scaled, y1_test)))\n",
        "print(\"Best mean cross-validation score: {:.2f}\".format(grid.best_score_))"
      ],
      "execution_count": null,
      "outputs": [
        {
          "output_type": "stream",
          "name": "stdout",
          "text": [
            "Best parameters: {'C': 1}\n",
            "Training set score: 1.00\n",
            "Test set score: 0.99\n",
            "Best mean cross-validation score: 0.99\n"
          ]
        }
      ]
    },
    {
      "cell_type": "code",
      "metadata": {
        "colab": {
          "base_uri": "https://localhost:8080/"
        },
        "id": "LfpgUI9s8-8r",
        "outputId": "185c7900-dcc0-4e57-a7c3-9777a1a919e7"
      },
      "source": [
        "#KNN for classification\n",
        "param_grid3 = {'n_neighbors': np.arange(1, 15, 2)} \n",
        "grid = GridSearchCV(KNeighborsClassifier(), param_grid=param_grid3)\n",
        "grid.fit(X1_train_scaled, y1_train)\n",
        "\n",
        "print(\"Best parameters: {}\".format(grid.best_params_))\n",
        "print(\"Test set score: {:.2f}\".format(grid.score(X1_train_scaled, y1_train)))\n",
        "print(\"Test set score: {:.2f}\".format(grid.score(X1_test_scaled, y1_test)))\n",
        "print(\"Best mean cross-validation score: {:.2f}\".format(grid.best_score_))"
      ],
      "execution_count": null,
      "outputs": [
        {
          "output_type": "stream",
          "name": "stdout",
          "text": [
            "Best parameters: {'n_neighbors': 1}\n",
            "Test set score: 1.00\n",
            "Test set score: 0.99\n",
            "Best mean cross-validation score: 0.99\n"
          ]
        }
      ]
    },
    {
      "cell_type": "markdown",
      "metadata": {
        "id": "Ru0ULrLyaPxX"
      },
      "source": [
        "The results have not changed after changing the random state of the split into training and test data."
      ]
    },
    {
      "cell_type": "markdown",
      "metadata": {
        "id": "fywRzsvzeRi0"
      },
      "source": [
        "###5. Lastly, compare the coefficients for Logistic Regression and Penalized Logistic Regression and discuss which final model you would choose to predict new data."
      ]
    },
    {
      "cell_type": "code",
      "metadata": {
        "colab": {
          "base_uri": "https://localhost:8080/"
        },
        "id": "j1y4kxhWf0E-",
        "outputId": "07d416f4-4e93-4185-96c6-d10e844bd45f"
      },
      "source": [
        "#Logistic regression\n",
        "logreg1 = LogisticRegression(penalty='none', max_iter=66666).fit(X0_train_scaled, y0_train)\n",
        "\n",
        "print(\"logreg1.coef_: {}\".format(logreg1.coef_))"
      ],
      "execution_count": null,
      "outputs": [
        {
          "output_type": "stream",
          "name": "stdout",
          "text": [
            "logreg1.coef_: [[ 1.55656845 -0.26222883 -5.11529336  0.74616344  1.30034929 -3.17142153\n",
            "   4.80825903 -0.09903954  0.60514104  1.59909646  0.35562116]]\n"
          ]
        }
      ]
    },
    {
      "cell_type": "code",
      "metadata": {
        "colab": {
          "base_uri": "https://localhost:8080/"
        },
        "id": "4cwMf1fd-pps",
        "outputId": "1a4ba0eb-1123-4799-d370-3c3e65345695"
      },
      "source": [
        "#Penalized logistic regression\n",
        "logreg2 = LogisticRegression(C=5, penalty='l2', max_iter=66666).fit(X0_train_scaled, y0_train)\n",
        "\n",
        "print(\"logreg2.coef_: {}\".format(logreg2.coef_))"
      ],
      "execution_count": null,
      "outputs": [
        {
          "output_type": "stream",
          "name": "stdout",
          "text": [
            "logreg2.coef_: [[ 1.52357551 -0.2374822  -4.62203706  0.73982421  1.16711261 -3.05597418\n",
            "   4.44368354 -0.02915728  0.63027296  1.41205023  0.33561519]]\n"
          ]
        }
      ]
    },
    {
      "cell_type": "code",
      "metadata": {
        "colab": {
          "base_uri": "https://localhost:8080/"
        },
        "id": "r5eJx1K-_DQC",
        "outputId": "558c9796-55ed-4624-9402-8f0895f66ba9"
      },
      "source": [
        "logreg3 = LogisticRegression(C=1, penalty='l1', solver='saga', max_iter=66666).fit(X0_train_scaled, y0_train)\n",
        "\n",
        "print(\"logreg3.coef_: {}\".format(logreg3.coef_))"
      ],
      "execution_count": null,
      "outputs": [
        {
          "output_type": "stream",
          "name": "stdout",
          "text": [
            "logreg3.coef_: [[ 1.49158986 -0.20369343 -4.4614975   0.70625731  1.06196719 -2.96179611\n",
            "   4.31349951  0.          0.61388092  1.33619796  0.31521172]]\n"
          ]
        }
      ]
    },
    {
      "cell_type": "markdown",
      "metadata": {
        "id": "Qxg-sde-gzva"
      },
      "source": [
        "The coefficients indcate that all of the models agree on the important features like fixed acidity, citric acid and free sulfur dioxide. Since all of the models have very high accuracy in cross validation, I would choose penalized logistic regression model with penalty of l2 to predict new data because the coefficients of it is more obvious than other models."
      ]
    }
  ]
}